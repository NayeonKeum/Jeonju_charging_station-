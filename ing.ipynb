{
 "cells": [
  {
   "cell_type": "code",
   "execution_count": 4,
   "metadata": {},
   "outputs": [],
   "source": [
    "import pandas as pd\n",
    "from haversine import haversine"
   ]
  },
  {
   "cell_type": "code",
   "execution_count": 9,
   "metadata": {},
   "outputs": [],
   "source": [
    "accident_df=pd.read_csv(\"data 경도 위도 매핑/전주_교통사고_통계.csv\")\n",
    "kinder_df=pd.read_csv(\"data 경도 위도 매핑/전주시_어린이집.csv\")\n",
    "school_df=pd.read_csv(\"data 경도 위도 매핑/전주_유초중고_총통계.csv\")\n",
    "bus_station_df=pd.read_csv(\"data 경도 위도 매핑/전주시_버스 정류장.csv\")\n",
    "gas_station_df=pd.read_csv(\"data 경도 위도 매핑/전주_충전소_주유소.csv\")\n",
    "## 추가추가"
   ]
  },
  {
   "cell_type": "code",
   "execution_count": 10,
   "metadata": {},
   "outputs": [
    {
     "data": {
      "text/html": [
       "<div>\n",
       "<style scoped>\n",
       "    .dataframe tbody tr th:only-of-type {\n",
       "        vertical-align: middle;\n",
       "    }\n",
       "\n",
       "    .dataframe tbody tr th {\n",
       "        vertical-align: top;\n",
       "    }\n",
       "\n",
       "    .dataframe thead th {\n",
       "        text-align: right;\n",
       "    }\n",
       "</style>\n",
       "<table border=\"1\" class=\"dataframe\">\n",
       "  <thead>\n",
       "    <tr style=\"text-align: right;\">\n",
       "      <th></th>\n",
       "      <th>Unnamed: 0</th>\n",
       "      <th>Unnamed: 0.1</th>\n",
       "      <th>사고번호</th>\n",
       "      <th>사고일시</th>\n",
       "      <th>요일</th>\n",
       "      <th>시군구</th>\n",
       "      <th>도로명</th>\n",
       "      <th>주소</th>\n",
       "      <th>위도</th>\n",
       "      <th>경도</th>\n",
       "    </tr>\n",
       "  </thead>\n",
       "  <tbody>\n",
       "    <tr>\n",
       "      <th>0</th>\n",
       "      <td>0</td>\n",
       "      <td>0</td>\n",
       "      <td>2.019060e+15</td>\n",
       "      <td>2019년 6월 6일 19시</td>\n",
       "      <td>목요일</td>\n",
       "      <td>전라북도 전주시 완산구 중앙동1가</td>\n",
       "      <td>충경로</td>\n",
       "      <td>전라북도 전주시 완산구 중앙동1가충경로</td>\n",
       "      <td>35.818018</td>\n",
       "      <td>127.145452</td>\n",
       "    </tr>\n",
       "    <tr>\n",
       "      <th>1</th>\n",
       "      <td>1</td>\n",
       "      <td>1</td>\n",
       "      <td>2.019090e+15</td>\n",
       "      <td>2019년 9월 30일 13시</td>\n",
       "      <td>월요일</td>\n",
       "      <td>전라북도 전주시 완산구 중앙동1가</td>\n",
       "      <td>전주객사2길</td>\n",
       "      <td>전라북도 전주시 완산구 중앙동1가전주객사2길</td>\n",
       "      <td>35.817335</td>\n",
       "      <td>127.141453</td>\n",
       "    </tr>\n",
       "    <tr>\n",
       "      <th>2</th>\n",
       "      <td>2</td>\n",
       "      <td>2</td>\n",
       "      <td>2.019050e+15</td>\n",
       "      <td>2019년 5월 6일 07시</td>\n",
       "      <td>월요일</td>\n",
       "      <td>전라북도 전주시 완산구 중앙동1가</td>\n",
       "      <td>전주객사2길</td>\n",
       "      <td>전라북도 전주시 완산구 중앙동1가전주객사2길</td>\n",
       "      <td>35.817335</td>\n",
       "      <td>127.141453</td>\n",
       "    </tr>\n",
       "  </tbody>\n",
       "</table>\n",
       "</div>"
      ],
      "text/plain": [
       "   Unnamed: 0  Unnamed: 0.1          사고번호              사고일시   요일  \\\n",
       "0           0             0  2.019060e+15   2019년 6월 6일 19시  목요일   \n",
       "1           1             1  2.019090e+15  2019년 9월 30일 13시  월요일   \n",
       "2           2             2  2.019050e+15   2019년 5월 6일 07시  월요일   \n",
       "\n",
       "                  시군구     도로명                        주소         위도          경도  \n",
       "0  전라북도 전주시 완산구 중앙동1가     충경로     전라북도 전주시 완산구 중앙동1가충경로  35.818018  127.145452  \n",
       "1  전라북도 전주시 완산구 중앙동1가  전주객사2길  전라북도 전주시 완산구 중앙동1가전주객사2길  35.817335  127.141453  \n",
       "2  전라북도 전주시 완산구 중앙동1가  전주객사2길  전라북도 전주시 완산구 중앙동1가전주객사2길  35.817335  127.141453  "
      ]
     },
     "execution_count": 10,
     "metadata": {},
     "output_type": "execute_result"
    }
   ],
   "source": [
    "accident_df.head(3)"
   ]
  },
  {
   "cell_type": "code",
   "execution_count": 13,
   "metadata": {},
   "outputs": [
    {
     "data": {
      "text/html": [
       "<div>\n",
       "<style scoped>\n",
       "    .dataframe tbody tr th:only-of-type {\n",
       "        vertical-align: middle;\n",
       "    }\n",
       "\n",
       "    .dataframe tbody tr th {\n",
       "        vertical-align: top;\n",
       "    }\n",
       "\n",
       "    .dataframe thead th {\n",
       "        text-align: right;\n",
       "    }\n",
       "</style>\n",
       "<table border=\"1\" class=\"dataframe\">\n",
       "  <thead>\n",
       "    <tr style=\"text-align: right;\">\n",
       "      <th></th>\n",
       "      <th>설치 지점명</th>\n",
       "      <th>지역(구)</th>\n",
       "      <th>지역(동)</th>\n",
       "      <th>세부주소</th>\n",
       "      <th>행정동</th>\n",
       "      <th>위도</th>\n",
       "      <th>경도</th>\n",
       "    </tr>\n",
       "  </thead>\n",
       "  <tbody>\n",
       "    <tr>\n",
       "      <th>0</th>\n",
       "      <td>우아롯데아파트</td>\n",
       "      <td>덕진구</td>\n",
       "      <td>우아동</td>\n",
       "      <td>우아동 2동 887</td>\n",
       "      <td>우아2동</td>\n",
       "      <td>35.832510</td>\n",
       "      <td>127.167824</td>\n",
       "    </tr>\n",
       "    <tr>\n",
       "      <th>1</th>\n",
       "      <td>여의동우체국전북은행</td>\n",
       "      <td>덕진구</td>\n",
       "      <td>여의동</td>\n",
       "      <td>여의동2가 696</td>\n",
       "      <td>여의동</td>\n",
       "      <td>35.871416</td>\n",
       "      <td>127.076584</td>\n",
       "    </tr>\n",
       "    <tr>\n",
       "      <th>2</th>\n",
       "      <td>기린대로경제통상진흥원</td>\n",
       "      <td>덕진구</td>\n",
       "      <td>팔복동</td>\n",
       "      <td>팔복동2가 550</td>\n",
       "      <td>팔복동</td>\n",
       "      <td>35.859761</td>\n",
       "      <td>127.092527</td>\n",
       "    </tr>\n",
       "  </tbody>\n",
       "</table>\n",
       "</div>"
      ],
      "text/plain": [
       "        설치 지점명 지역(구) 지역(동)        세부주소          행정동         위도          경도\n",
       "0      우아롯데아파트   덕진구  우아동   우아동 2동 887  우아2동         35.832510  127.167824\n",
       "1   여의동우체국전북은행   덕진구   여의동   여의동2가 696  여의동          35.871416  127.076584\n",
       "2  기린대로경제통상진흥원   덕진구   팔복동   팔복동2가 550  팔복동          35.859761  127.092527"
      ]
     },
     "execution_count": 13,
     "metadata": {},
     "output_type": "execute_result"
    }
   ],
   "source": [
    "bus_station_df.head(3)"
   ]
  },
  {
   "cell_type": "code",
   "execution_count": 14,
   "metadata": {},
   "outputs": [
    {
     "data": {
      "text/html": [
       "<div>\n",
       "<style scoped>\n",
       "    .dataframe tbody tr th:only-of-type {\n",
       "        vertical-align: middle;\n",
       "    }\n",
       "\n",
       "    .dataframe tbody tr th {\n",
       "        vertical-align: top;\n",
       "    }\n",
       "\n",
       "    .dataframe thead th {\n",
       "        text-align: right;\n",
       "    }\n",
       "</style>\n",
       "<table border=\"1\" class=\"dataframe\">\n",
       "  <thead>\n",
       "    <tr style=\"text-align: right;\">\n",
       "      <th></th>\n",
       "      <th>지역</th>\n",
       "      <th>상호</th>\n",
       "      <th>타입</th>\n",
       "      <th>주소</th>\n",
       "      <th>위도</th>\n",
       "      <th>경도</th>\n",
       "    </tr>\n",
       "  </thead>\n",
       "  <tbody>\n",
       "    <tr>\n",
       "      <th>0</th>\n",
       "      <td>전라북도</td>\n",
       "      <td>직영충전소</td>\n",
       "      <td>충전소</td>\n",
       "      <td>전북 전주시 덕진구  혁신로 360번지</td>\n",
       "      <td>35.864542</td>\n",
       "      <td>127.069401</td>\n",
       "    </tr>\n",
       "    <tr>\n",
       "      <th>1</th>\n",
       "      <td>전라북도</td>\n",
       "      <td>(유)삼영에너지</td>\n",
       "      <td>충전소</td>\n",
       "      <td>전북 전주시 완산구 쑥고개로 11 (용복동)</td>\n",
       "      <td>35.790810</td>\n",
       "      <td>127.068859</td>\n",
       "    </tr>\n",
       "    <tr>\n",
       "      <th>2</th>\n",
       "      <td>전라북도</td>\n",
       "      <td>(유)푸른기업충전소</td>\n",
       "      <td>충전소</td>\n",
       "      <td>전북 전주시 완산구  모악로 4483 (석구동)</td>\n",
       "      <td>35.786460</td>\n",
       "      <td>127.128841</td>\n",
       "    </tr>\n",
       "  </tbody>\n",
       "</table>\n",
       "</div>"
      ],
      "text/plain": [
       "     지역          상호   타입                          주소         위도          경도\n",
       "0  전라북도       직영충전소  충전소       전북 전주시 덕진구  혁신로 360번지  35.864542  127.069401\n",
       "1  전라북도    (유)삼영에너지  충전소    전북 전주시 완산구 쑥고개로 11 (용복동)  35.790810  127.068859\n",
       "2  전라북도  (유)푸른기업충전소  충전소  전북 전주시 완산구  모악로 4483 (석구동)  35.786460  127.128841"
      ]
     },
     "execution_count": 14,
     "metadata": {},
     "output_type": "execute_result"
    }
   ],
   "source": [
    "gas_station_df.head(3)"
   ]
  },
  {
   "cell_type": "markdown",
   "metadata": {},
   "source": [
    "## 가산"
   ]
  },
  {
   "cell_type": "markdown",
   "metadata": {},
   "source": [
    "가능 : 타 주유소, 교통량(교통 사고), 버스 정류장"
   ]
  },
  {
   "cell_type": "markdown",
   "metadata": {},
   "source": [
    "working on : 차고지 위치"
   ]
  },
  {
   "cell_type": "code",
   "execution_count": 38,
   "metadata": {},
   "outputs": [],
   "source": [
    "# 거리 총합 리스트(버스)\n",
    "def 거리총합리스트(data1, data2, name_col):\n",
    "    distance_list=[]\n",
    "\n",
    "    for i in range(len(data1)):\n",
    "        total=0\n",
    "        for j in range(len(data2)):\n",
    "            total+=haversine((data1.loc[i]['위도'],data1.loc[i]['경도']),(data2.loc[j]['위도'],data2.loc[j]['경도']), unit = 'km')\n",
    "        distance_list.append((data1.loc[i][name_col],total))\n",
    "        \n",
    "    distance_list=sorted(distance_list,key=lambda x:x[1])\n",
    "    \n",
    "    return distance_list[:10]"
   ]
  },
  {
   "cell_type": "code",
   "execution_count": 39,
   "metadata": {},
   "outputs": [
    {
     "data": {
      "text/plain": [
       "[('목원주유소', 1932.117595800026),\n",
       " ('(유)피노키오주유소', 1951.6820527794473),\n",
       " ('어은터널주유소', 1952.5430694432293),\n",
       " ('OK셀프주유소', 1960.7183121518026),\n",
       " ('SK에너지㈜ 대광제일주유소', 1964.5835598249605),\n",
       " ('대림싼주유소', 1989.9465029210273),\n",
       " ('(유)그린피앤엘 시온주유소', 2007.126415917588),\n",
       " ('두리주유소', 2032.5060271229088),\n",
       " ('대학로self주유소', 2086.5716975460305),\n",
       " ('SK행복충전 호남가스충전소', 2097.3811336500444)]"
      ]
     },
     "execution_count": 39,
     "metadata": {},
     "output_type": "execute_result"
    }
   ],
   "source": [
    "distance_list=거리총합리스트(gas_station_df, bus_station_df, '상호')\n",
    "distance_list"
   ]
  },
  {
   "cell_type": "code",
   "execution_count": 40,
   "metadata": {},
   "outputs": [],
   "source": [
    "# p 반경 이내 개수 리스트(타 주유소)\n",
    "def 반경이내_개수_리스트(p, data1, data2, name_col):\n",
    "    count_list=[]\n",
    "    for i in range(len(data1)):\n",
    "        count=0\n",
    "        for j in range(len(data2)):\n",
    "            dist=haversine((data1.loc[i]['위도'],data1.loc[i]['경도']),(data2.loc[j]['위도'],data2.loc[j]['경도']), unit = 'km')\n",
    "            if dist<=p:\n",
    "                count+=1\n",
    "        count_list.append((data1.loc[i][name_col],count-1))# 자기 자신 제외\n",
    "    count_list=sorted(count_list, key=lambda x: x[1], reverse=True)\n",
    "    return count_list[:10]\n",
    "   "
   ]
  },
  {
   "cell_type": "code",
   "execution_count": 41,
   "metadata": {},
   "outputs": [
    {
     "data": {
      "text/plain": [
       "[('동산LPG충전소', 34),\n",
       " ('통큰셀프주유소', 33),\n",
       " ('첨단주유소', 33),\n",
       " ('CJ대한통운㈜ 공단주유소', 31),\n",
       " ('팔복주유소', 31),\n",
       " ('그린주유소', 31),\n",
       " ('유진주유소', 31),\n",
       " ('세진셀프주유소', 31),\n",
       " ('SK행복충전 대성엘피지충전소', 30),\n",
       " ('직영충전소', 29)]"
      ]
     },
     "execution_count": 41,
     "metadata": {},
     "output_type": "execute_result"
    }
   ],
   "source": [
    "주유소_count_list=반경이내_개수_리스트(2, gas_station_df, gas_station_df,'상호')\n",
    "주유소_count_list"
   ]
  },
  {
   "cell_type": "code",
   "execution_count": 46,
   "metadata": {},
   "outputs": [
    {
     "data": {
      "text/plain": [
       "[('OK셀프주유소', 690),\n",
       " ('(유)피노키오주유소', 650),\n",
       " ('목원주유소', 646),\n",
       " ('한옥마을주유소', 639),\n",
       " ('(유)그린피앤엘 시온주유소', 631),\n",
       " ('두리주유소', 609),\n",
       " ('한흥주유소', 580),\n",
       " ('어은터널주유소', 574),\n",
       " ('새로운주유소', 568),\n",
       " ('스타주유소', 561)]"
      ]
     },
     "execution_count": 46,
     "metadata": {},
     "output_type": "execute_result"
    }
   ],
   "source": [
    "교통사고_count_list=반경이내_개수_리스트(2, gas_station_df, accident_df,'상호')\n",
    "교통사고_count_list"
   ]
  },
  {
   "cell_type": "markdown",
   "metadata": {},
   "source": [
    "## 감점"
   ]
  },
  {
   "cell_type": "markdown",
   "metadata": {},
   "source": [
    "가능 : 어린이집, 유초중고(2km)"
   ]
  },
  {
   "cell_type": "markdown",
   "metadata": {},
   "source": [
    "working on : 화재"
   ]
  },
  {
   "cell_type": "code",
   "execution_count": 43,
   "metadata": {},
   "outputs": [
    {
     "data": {
      "text/html": [
       "<div>\n",
       "<style scoped>\n",
       "    .dataframe tbody tr th:only-of-type {\n",
       "        vertical-align: middle;\n",
       "    }\n",
       "\n",
       "    .dataframe tbody tr th {\n",
       "        vertical-align: top;\n",
       "    }\n",
       "\n",
       "    .dataframe thead th {\n",
       "        text-align: right;\n",
       "    }\n",
       "</style>\n",
       "<table border=\"1\" class=\"dataframe\">\n",
       "  <thead>\n",
       "    <tr style=\"text-align: right;\">\n",
       "      <th></th>\n",
       "      <th>지역</th>\n",
       "      <th>상호</th>\n",
       "      <th>타입</th>\n",
       "      <th>주소</th>\n",
       "      <th>위도</th>\n",
       "      <th>경도</th>\n",
       "    </tr>\n",
       "  </thead>\n",
       "  <tbody>\n",
       "    <tr>\n",
       "      <th>0</th>\n",
       "      <td>전라북도</td>\n",
       "      <td>직영충전소</td>\n",
       "      <td>충전소</td>\n",
       "      <td>전북 전주시 덕진구  혁신로 360번지</td>\n",
       "      <td>35.864542</td>\n",
       "      <td>127.069401</td>\n",
       "    </tr>\n",
       "    <tr>\n",
       "      <th>1</th>\n",
       "      <td>전라북도</td>\n",
       "      <td>(유)삼영에너지</td>\n",
       "      <td>충전소</td>\n",
       "      <td>전북 전주시 완산구 쑥고개로 11 (용복동)</td>\n",
       "      <td>35.790810</td>\n",
       "      <td>127.068859</td>\n",
       "    </tr>\n",
       "    <tr>\n",
       "      <th>2</th>\n",
       "      <td>전라북도</td>\n",
       "      <td>(유)푸른기업충전소</td>\n",
       "      <td>충전소</td>\n",
       "      <td>전북 전주시 완산구  모악로 4483 (석구동)</td>\n",
       "      <td>35.786460</td>\n",
       "      <td>127.128841</td>\n",
       "    </tr>\n",
       "  </tbody>\n",
       "</table>\n",
       "</div>"
      ],
      "text/plain": [
       "     지역          상호   타입                          주소         위도          경도\n",
       "0  전라북도       직영충전소  충전소       전북 전주시 덕진구  혁신로 360번지  35.864542  127.069401\n",
       "1  전라북도    (유)삼영에너지  충전소    전북 전주시 완산구 쑥고개로 11 (용복동)  35.790810  127.068859\n",
       "2  전라북도  (유)푸른기업충전소  충전소  전북 전주시 완산구  모악로 4483 (석구동)  35.786460  127.128841"
      ]
     },
     "execution_count": 43,
     "metadata": {},
     "output_type": "execute_result"
    }
   ],
   "source": [
    "gas_station_df.head(3)"
   ]
  },
  {
   "cell_type": "code",
   "execution_count": 44,
   "metadata": {},
   "outputs": [
    {
     "data": {
      "text/html": [
       "<div>\n",
       "<style scoped>\n",
       "    .dataframe tbody tr th:only-of-type {\n",
       "        vertical-align: middle;\n",
       "    }\n",
       "\n",
       "    .dataframe tbody tr th {\n",
       "        vertical-align: top;\n",
       "    }\n",
       "\n",
       "    .dataframe thead th {\n",
       "        text-align: right;\n",
       "    }\n",
       "</style>\n",
       "<table border=\"1\" class=\"dataframe\">\n",
       "  <thead>\n",
       "    <tr style=\"text-align: right;\">\n",
       "      <th></th>\n",
       "      <th>시도</th>\n",
       "      <th>행정구</th>\n",
       "      <th>교육\\n(지원)청</th>\n",
       "      <th>학교급</th>\n",
       "      <th>고등학교\\n유형</th>\n",
       "      <th>KEDI 학제</th>\n",
       "      <th>학교명</th>\n",
       "      <th>우편번호</th>\n",
       "      <th>주소</th>\n",
       "      <th>위도</th>\n",
       "      <th>경도</th>\n",
       "    </tr>\n",
       "  </thead>\n",
       "  <tbody>\n",
       "    <tr>\n",
       "      <th>0</th>\n",
       "      <td>전북</td>\n",
       "      <td>전주시</td>\n",
       "      <td>전북</td>\n",
       "      <td>고등학교</td>\n",
       "      <td>일반고</td>\n",
       "      <td>일반고등학교</td>\n",
       "      <td>전북대학교사범대학부설고등학교</td>\n",
       "      <td>54896</td>\n",
       "      <td>전라북도 전주시 덕진구 백제대로 567(금암동. 전북대학교)</td>\n",
       "      <td>35.846732</td>\n",
       "      <td>127.129367</td>\n",
       "    </tr>\n",
       "    <tr>\n",
       "      <th>1</th>\n",
       "      <td>전북</td>\n",
       "      <td>전주시</td>\n",
       "      <td>전북</td>\n",
       "      <td>고등학교</td>\n",
       "      <td>일반고</td>\n",
       "      <td>일반고등학교</td>\n",
       "      <td>전라고등학교</td>\n",
       "      <td>54836</td>\n",
       "      <td>전라북도 전주시 덕진구 솔내7길 25(송천동1가. 전라고등학교)</td>\n",
       "      <td>35.859966</td>\n",
       "      <td>127.124891</td>\n",
       "    </tr>\n",
       "    <tr>\n",
       "      <th>2</th>\n",
       "      <td>전북</td>\n",
       "      <td>전주시</td>\n",
       "      <td>전북</td>\n",
       "      <td>고등학교</td>\n",
       "      <td>일반고</td>\n",
       "      <td>일반고등학교</td>\n",
       "      <td>전주고등학교</td>\n",
       "      <td>55007</td>\n",
       "      <td>전라북도 전주시 완산구 권삼득로 2(중노송동. 전주고등학교)</td>\n",
       "      <td>35.825388</td>\n",
       "      <td>127.151833</td>\n",
       "    </tr>\n",
       "  </tbody>\n",
       "</table>\n",
       "</div>"
      ],
      "text/plain": [
       "   시도  행정구 교육\\n(지원)청   학교급 고등학교\\n유형 KEDI 학제              학교명   우편번호  \\\n",
       "0  전북  전주시        전북  고등학교      일반고  일반고등학교  전북대학교사범대학부설고등학교  54896   \n",
       "1  전북  전주시        전북  고등학교      일반고  일반고등학교           전라고등학교  54836   \n",
       "2  전북  전주시        전북  고등학교      일반고  일반고등학교           전주고등학교  55007   \n",
       "\n",
       "                                    주소         위도          경도  \n",
       "0    전라북도 전주시 덕진구 백제대로 567(금암동. 전북대학교)  35.846732  127.129367  \n",
       "1  전라북도 전주시 덕진구 솔내7길 25(송천동1가. 전라고등학교)  35.859966  127.124891  \n",
       "2    전라북도 전주시 완산구 권삼득로 2(중노송동. 전주고등학교)  35.825388  127.151833  "
      ]
     },
     "execution_count": 44,
     "metadata": {},
     "output_type": "execute_result"
    }
   ],
   "source": [
    "school_df.head(3)"
   ]
  },
  {
   "cell_type": "code",
   "execution_count": 45,
   "metadata": {},
   "outputs": [
    {
     "data": {
      "text/html": [
       "<div>\n",
       "<style scoped>\n",
       "    .dataframe tbody tr th:only-of-type {\n",
       "        vertical-align: middle;\n",
       "    }\n",
       "\n",
       "    .dataframe tbody tr th {\n",
       "        vertical-align: top;\n",
       "    }\n",
       "\n",
       "    .dataframe thead th {\n",
       "        text-align: right;\n",
       "    }\n",
       "</style>\n",
       "<table border=\"1\" class=\"dataframe\">\n",
       "  <thead>\n",
       "    <tr style=\"text-align: right;\">\n",
       "      <th></th>\n",
       "      <th>Unnamed: 0</th>\n",
       "      <th>어린이집명</th>\n",
       "      <th>주소</th>\n",
       "      <th>위도</th>\n",
       "      <th>경도</th>\n",
       "    </tr>\n",
       "  </thead>\n",
       "  <tbody>\n",
       "    <tr>\n",
       "      <th>0</th>\n",
       "      <td>0</td>\n",
       "      <td>e편한세상어린이집</td>\n",
       "      <td>전라북도 전주시 완산구 여울로 161 관리동(서신동, e편한세상)</td>\n",
       "      <td>35.839530</td>\n",
       "      <td>127.106910</td>\n",
       "    </tr>\n",
       "    <tr>\n",
       "      <th>1</th>\n",
       "      <td>1</td>\n",
       "      <td>NPS국민연금어린이집</td>\n",
       "      <td>전라북도 전주시 덕진구 기지로 180</td>\n",
       "      <td>35.837661</td>\n",
       "      <td>127.071757</td>\n",
       "    </tr>\n",
       "    <tr>\n",
       "      <th>2</th>\n",
       "      <td>2</td>\n",
       "      <td>SK뷰 생글어린이집</td>\n",
       "      <td>전라북도 전주시 완산구 태평2길 22 관리동(태평동, 태평SKVIEW)</td>\n",
       "      <td>35.824693</td>\n",
       "      <td>127.139501</td>\n",
       "    </tr>\n",
       "  </tbody>\n",
       "</table>\n",
       "</div>"
      ],
      "text/plain": [
       "   Unnamed: 0        어린이집명                                       주소  \\\n",
       "0           0    e편한세상어린이집     전라북도 전주시 완산구 여울로 161 관리동(서신동, e편한세상)   \n",
       "1           1  NPS국민연금어린이집                     전라북도 전주시 덕진구 기지로 180   \n",
       "2           2   SK뷰 생글어린이집  전라북도 전주시 완산구 태평2길 22 관리동(태평동, 태평SKVIEW)   \n",
       "\n",
       "          위도          경도  \n",
       "0  35.839530  127.106910  \n",
       "1  35.837661  127.071757  \n",
       "2  35.824693  127.139501  "
      ]
     },
     "execution_count": 45,
     "metadata": {},
     "output_type": "execute_result"
    }
   ],
   "source": [
    "kinder_df.head(3)"
   ]
  },
  {
   "cell_type": "code",
   "execution_count": 47,
   "metadata": {},
   "outputs": [
    {
     "data": {
      "text/plain": [
       "[('진영주유소', 162),\n",
       " ('삼천주유소', 159),\n",
       " ('전주제일주유소', 154),\n",
       " ('SK에너지㈜ 코끼리주유소', 145),\n",
       " ('룰루랄라주유소', 143),\n",
       " ('안행주유소', 142),\n",
       " ('유연로주유소', 142),\n",
       " ('SK강변주유소', 142),\n",
       " ('지에스칼텍스(주)글로리주유소', 142),\n",
       " ('(주)피더스이앤에스 완산충전소', 141)]"
      ]
     },
     "execution_count": 47,
     "metadata": {},
     "output_type": "execute_result"
    }
   ],
   "source": [
    "유치원_count_list=반경이내_개수_리스트(2, gas_station_df, kinder_df, '상호')\n",
    "유치원_count_list"
   ]
  },
  {
   "cell_type": "code",
   "execution_count": 48,
   "metadata": {},
   "outputs": [
    {
     "data": {
      "text/plain": [
       "[('(주)피더스이앤에스 완산충전소', 62),\n",
       " ('한옥마을주유소', 59),\n",
       " ('진영주유소', 57),\n",
       " ('SK강변주유소', 57),\n",
       " ('스타주유소', 56),\n",
       " ('전주제일주유소', 56),\n",
       " ('삼천주유소', 56),\n",
       " ('삼성Self주유소', 55),\n",
       " ('청솔주유소', 55),\n",
       " ('SK에너지㈜ 코끼리주유소', 55)]"
      ]
     },
     "execution_count": 48,
     "metadata": {},
     "output_type": "execute_result"
    }
   ],
   "source": [
    "유초중고_count_list=반경이내_개수_리스트(2, gas_station_df, school_df, '상호')\n",
    "유초중고_count_list"
   ]
  },
  {
   "cell_type": "code",
   "execution_count": null,
   "metadata": {},
   "outputs": [],
   "source": []
  }
 ],
 "metadata": {
  "kernelspec": {
   "display_name": "Python 3",
   "language": "python",
   "name": "python3"
  },
  "language_info": {
   "codemirror_mode": {
    "name": "ipython",
    "version": 3
   },
   "file_extension": ".py",
   "mimetype": "text/x-python",
   "name": "python",
   "nbconvert_exporter": "python",
   "pygments_lexer": "ipython3",
   "version": "3.8.5"
  }
 },
 "nbformat": 4,
 "nbformat_minor": 4
}
