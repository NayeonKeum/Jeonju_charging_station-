{
 "cells": [
  {
   "cell_type": "code",
   "execution_count": 1,
   "metadata": {},
   "outputs": [],
   "source": [
    "import pandas as pd\n",
    "from haversine import haversine"
   ]
  },
  {
   "cell_type": "code",
   "execution_count": 37,
   "metadata": {},
   "outputs": [],
   "source": [
    "city_list=[\"광주\", \"울산\",\"전주\",\"창원\"]\n",
    "i=0\n",
    "fire_incident_df=pd.read_csv(city_list[i]+\" data 경도 위도 매핑/\"+city_list[i]+\" 화재 정보.csv\")\n",
    "accident_df=pd.read_csv(city_list[i]+\" data 경도 위도 매핑/\"+city_list[i]+\"_교통사고_통계.csv\")\n",
    "school_df=pd.read_csv(city_list[i]+\" data 경도 위도 매핑/\"+city_list[i]+\" 초중고.csv\")\n",
    "bus_station_df=pd.read_csv(city_list[i]+\" data 경도 위도 매핑/\"+city_list[i]+\"시_버스 정류장.csv\")\n",
    "gas_station_df=pd.read_csv(city_list[i]+\" data 경도 위도 매핑/\"+city_list[i]+\"_충전소_주유소.csv\")\n",
    "weight_df=pd.DataFrame([[0]*7]*len(gas_station_df), columns=['주유소명', '버정거리총합', '상호개수', '교통사고건수','보호구역개수','화재발생건수','총 가중치'])\n",
    "weight_df['주유소명']=gas_station_df['상호'][:]\n",
    "## 추가추가"
   ]
  },
  {
   "cell_type": "code",
   "execution_count": 38,
   "metadata": {},
   "outputs": [
    {
     "data": {
      "text/html": [
       "<div>\n",
       "<style scoped>\n",
       "    .dataframe tbody tr th:only-of-type {\n",
       "        vertical-align: middle;\n",
       "    }\n",
       "\n",
       "    .dataframe tbody tr th {\n",
       "        vertical-align: top;\n",
       "    }\n",
       "\n",
       "    .dataframe thead th {\n",
       "        text-align: right;\n",
       "    }\n",
       "</style>\n",
       "<table border=\"1\" class=\"dataframe\">\n",
       "  <thead>\n",
       "    <tr style=\"text-align: right;\">\n",
       "      <th></th>\n",
       "      <th>조사서번호</th>\n",
       "      <th>시도</th>\n",
       "      <th>시군구</th>\n",
       "      <th>읍면동</th>\n",
       "      <th>주소</th>\n",
       "      <th>위도</th>\n",
       "      <th>경도</th>\n",
       "    </tr>\n",
       "  </thead>\n",
       "  <tbody>\n",
       "    <tr>\n",
       "      <th>0</th>\n",
       "      <td>'170101192708682</td>\n",
       "      <td>광주광역시</td>\n",
       "      <td>북구</td>\n",
       "      <td>신용동</td>\n",
       "      <td>광주광역시 북구 신용동</td>\n",
       "      <td>35.213635</td>\n",
       "      <td>126.863054</td>\n",
       "    </tr>\n",
       "    <tr>\n",
       "      <th>1</th>\n",
       "      <td>'170101194942936</td>\n",
       "      <td>광주광역시</td>\n",
       "      <td>북구</td>\n",
       "      <td>용봉동</td>\n",
       "      <td>광주광역시 북구 용봉동</td>\n",
       "      <td>35.213635</td>\n",
       "      <td>126.863054</td>\n",
       "    </tr>\n",
       "    <tr>\n",
       "      <th>2</th>\n",
       "      <td>'170101214940902</td>\n",
       "      <td>광주광역시</td>\n",
       "      <td>광산구</td>\n",
       "      <td>장덕동</td>\n",
       "      <td>광주광역시 광산구 장덕동</td>\n",
       "      <td>35.213635</td>\n",
       "      <td>126.863054</td>\n",
       "    </tr>\n",
       "  </tbody>\n",
       "</table>\n",
       "</div>"
      ],
      "text/plain": [
       "              조사서번호     시도  시군구  읍면동             주소         위도          경도\n",
       "0  '170101192708682  광주광역시   북구  신용동   광주광역시 북구 신용동  35.213635  126.863054\n",
       "1  '170101194942936  광주광역시   북구  용봉동   광주광역시 북구 용봉동  35.213635  126.863054\n",
       "2  '170101214940902  광주광역시  광산구  장덕동  광주광역시 광산구 장덕동  35.213635  126.863054"
      ]
     },
     "execution_count": 38,
     "metadata": {},
     "output_type": "execute_result"
    }
   ],
   "source": [
    "fire_incident_df.head(3)"
   ]
  },
  {
   "cell_type": "code",
   "execution_count": 39,
   "metadata": {},
   "outputs": [
    {
     "data": {
      "text/html": [
       "<div>\n",
       "<style scoped>\n",
       "    .dataframe tbody tr th:only-of-type {\n",
       "        vertical-align: middle;\n",
       "    }\n",
       "\n",
       "    .dataframe tbody tr th {\n",
       "        vertical-align: top;\n",
       "    }\n",
       "\n",
       "    .dataframe thead th {\n",
       "        text-align: right;\n",
       "    }\n",
       "</style>\n",
       "<table border=\"1\" class=\"dataframe\">\n",
       "  <thead>\n",
       "    <tr style=\"text-align: right;\">\n",
       "      <th></th>\n",
       "      <th>시군구</th>\n",
       "      <th>도로명</th>\n",
       "      <th>주소</th>\n",
       "      <th>사고건수</th>\n",
       "      <th>사망자수</th>\n",
       "      <th>중상자수</th>\n",
       "      <th>경상자수</th>\n",
       "      <th>부상신고자수</th>\n",
       "      <th>위도</th>\n",
       "      <th>경도</th>\n",
       "    </tr>\n",
       "  </thead>\n",
       "  <tbody>\n",
       "    <tr>\n",
       "      <th>0</th>\n",
       "      <td>광주광역시 동구</td>\n",
       "      <td>필문대로</td>\n",
       "      <td>광주광역시 동구 필문대로</td>\n",
       "      <td>4</td>\n",
       "      <td>1</td>\n",
       "      <td>1</td>\n",
       "      <td>3</td>\n",
       "      <td>0</td>\n",
       "      <td>35.158095</td>\n",
       "      <td>126.928527</td>\n",
       "    </tr>\n",
       "    <tr>\n",
       "      <th>1</th>\n",
       "      <td>광주광역시 동구</td>\n",
       "      <td>참판로</td>\n",
       "      <td>광주광역시 동구 참판로</td>\n",
       "      <td>3</td>\n",
       "      <td>0</td>\n",
       "      <td>0</td>\n",
       "      <td>3</td>\n",
       "      <td>0</td>\n",
       "      <td>35.160837</td>\n",
       "      <td>126.927285</td>\n",
       "    </tr>\n",
       "    <tr>\n",
       "      <th>2</th>\n",
       "      <td>광주광역시 동구</td>\n",
       "      <td>화산로350번길</td>\n",
       "      <td>광주광역시 동구 화산로350번길</td>\n",
       "      <td>1</td>\n",
       "      <td>0</td>\n",
       "      <td>0</td>\n",
       "      <td>1</td>\n",
       "      <td>0</td>\n",
       "      <td>35.115439</td>\n",
       "      <td>126.932745</td>\n",
       "    </tr>\n",
       "  </tbody>\n",
       "</table>\n",
       "</div>"
      ],
      "text/plain": [
       "        시군구       도로명                 주소  사고건수  사망자수  중상자수  경상자수  부상신고자수  \\\n",
       "0  광주광역시 동구      필문대로      광주광역시 동구 필문대로     4     1     1     3       0   \n",
       "1  광주광역시 동구       참판로       광주광역시 동구 참판로     3     0     0     3       0   \n",
       "2  광주광역시 동구  화산로350번길  광주광역시 동구 화산로350번길     1     0     0     1       0   \n",
       "\n",
       "          위도          경도  \n",
       "0  35.158095  126.928527  \n",
       "1  35.160837  126.927285  \n",
       "2  35.115439  126.932745  "
      ]
     },
     "execution_count": 39,
     "metadata": {},
     "output_type": "execute_result"
    }
   ],
   "source": [
    "accident_df.head(3)"
   ]
  },
  {
   "cell_type": "code",
   "execution_count": 40,
   "metadata": {},
   "outputs": [
    {
     "data": {
      "text/html": [
       "<div>\n",
       "<style scoped>\n",
       "    .dataframe tbody tr th:only-of-type {\n",
       "        vertical-align: middle;\n",
       "    }\n",
       "\n",
       "    .dataframe tbody tr th {\n",
       "        vertical-align: top;\n",
       "    }\n",
       "\n",
       "    .dataframe thead th {\n",
       "        text-align: right;\n",
       "    }\n",
       "</style>\n",
       "<table border=\"1\" class=\"dataframe\">\n",
       "  <thead>\n",
       "    <tr style=\"text-align: right;\">\n",
       "      <th></th>\n",
       "      <th>NODE_NM</th>\n",
       "      <th>위도</th>\n",
       "      <th>경도</th>\n",
       "    </tr>\n",
       "  </thead>\n",
       "  <tbody>\n",
       "    <tr>\n",
       "      <th>0</th>\n",
       "      <td>방림터널사거리</td>\n",
       "      <td>35.130698</td>\n",
       "      <td>126.918418</td>\n",
       "    </tr>\n",
       "    <tr>\n",
       "      <th>1</th>\n",
       "      <td>방림터널사거리</td>\n",
       "      <td>35.130785</td>\n",
       "      <td>126.918429</td>\n",
       "    </tr>\n",
       "    <tr>\n",
       "      <th>2</th>\n",
       "      <td>송림아파트</td>\n",
       "      <td>35.130956</td>\n",
       "      <td>126.923305</td>\n",
       "    </tr>\n",
       "  </tbody>\n",
       "</table>\n",
       "</div>"
      ],
      "text/plain": [
       "   NODE_NM         위도          경도\n",
       "0  방림터널사거리  35.130698  126.918418\n",
       "1  방림터널사거리  35.130785  126.918429\n",
       "2    송림아파트  35.130956  126.923305"
      ]
     },
     "execution_count": 40,
     "metadata": {},
     "output_type": "execute_result"
    }
   ],
   "source": [
    "bus_station_df.head(3)"
   ]
  },
  {
   "cell_type": "code",
   "execution_count": 41,
   "metadata": {},
   "outputs": [
    {
     "data": {
      "text/html": [
       "<div>\n",
       "<style scoped>\n",
       "    .dataframe tbody tr th:only-of-type {\n",
       "        vertical-align: middle;\n",
       "    }\n",
       "\n",
       "    .dataframe tbody tr th {\n",
       "        vertical-align: top;\n",
       "    }\n",
       "\n",
       "    .dataframe thead th {\n",
       "        text-align: right;\n",
       "    }\n",
       "</style>\n",
       "<table border=\"1\" class=\"dataframe\">\n",
       "  <thead>\n",
       "    <tr style=\"text-align: right;\">\n",
       "      <th></th>\n",
       "      <th>지역</th>\n",
       "      <th>상호</th>\n",
       "      <th>타입</th>\n",
       "      <th>주소</th>\n",
       "      <th>위도</th>\n",
       "      <th>경도</th>\n",
       "    </tr>\n",
       "  </thead>\n",
       "  <tbody>\n",
       "    <tr>\n",
       "      <th>0</th>\n",
       "      <td>광주광역시</td>\n",
       "      <td>(주)대원 강변주유소</td>\n",
       "      <td>주유소</td>\n",
       "      <td>광주 서구 천변좌하로 142 (치평동)</td>\n",
       "      <td>35.152433</td>\n",
       "      <td>126.856406</td>\n",
       "    </tr>\n",
       "    <tr>\n",
       "      <th>1</th>\n",
       "      <td>광주광역시</td>\n",
       "      <td>반디석유시청점</td>\n",
       "      <td>주유소</td>\n",
       "      <td>광주 서구 천변좌하로 160 (치평동)</td>\n",
       "      <td>35.153657</td>\n",
       "      <td>126.836214</td>\n",
       "    </tr>\n",
       "    <tr>\n",
       "      <th>2</th>\n",
       "      <td>광주광역시</td>\n",
       "      <td>(주)아프리카주유소</td>\n",
       "      <td>주유소</td>\n",
       "      <td>광주광역시 서구  천변좌하로 168 (치평동)</td>\n",
       "      <td>35.155775</td>\n",
       "      <td>126.837847</td>\n",
       "    </tr>\n",
       "  </tbody>\n",
       "</table>\n",
       "</div>"
      ],
      "text/plain": [
       "      지역           상호   타입                         주소         위도          경도\n",
       "0  광주광역시  (주)대원 강변주유소  주유소      광주 서구 천변좌하로 142 (치평동)  35.152433  126.856406\n",
       "1  광주광역시      반디석유시청점  주유소      광주 서구 천변좌하로 160 (치평동)  35.153657  126.836214\n",
       "2  광주광역시   (주)아프리카주유소  주유소  광주광역시 서구  천변좌하로 168 (치평동)  35.155775  126.837847"
      ]
     },
     "execution_count": 41,
     "metadata": {},
     "output_type": "execute_result"
    }
   ],
   "source": [
    "gas_station_df.head(3)"
   ]
  },
  {
   "cell_type": "markdown",
   "metadata": {},
   "source": [
    "## 가산"
   ]
  },
  {
   "cell_type": "markdown",
   "metadata": {},
   "source": [
    "가능 : 타 주유소, 교통량(교통 사고), 버스 정류장"
   ]
  },
  {
   "cell_type": "markdown",
   "metadata": {},
   "source": [
    "working on : 차고지 위치"
   ]
  },
  {
   "cell_type": "code",
   "execution_count": 42,
   "metadata": {},
   "outputs": [],
   "source": [
    "# 거리 총합 리스트\n",
    "def 거리총합리스트(data1, data2, name_col):\n",
    "    # distance_list=[]\n",
    "\n",
    "    for i in range(len(data1)):\n",
    "        total=0\n",
    "        for j in range(len(data2)):\n",
    "            total+=haversine((data1.loc[i]['위도'],data1.loc[i]['경도']),(data2.loc[j]['위도'],data2.loc[j]['경도']), unit = 'km')\n",
    "        # distance_list.append((data1.loc[i][name_col],total))\n",
    "        weight_df['버정거리총합'][i]=total\n",
    "    "
   ]
  },
  {
   "cell_type": "code",
   "execution_count": 43,
   "metadata": {},
   "outputs": [],
   "source": [
    "# p 반경 이내 개수 리스트(타 주유소)\n",
    "def 반경이내_개수_리스트(p, data1, data2, name_col):\n",
    "    count_list=[]\n",
    "    for i in range(len(data1)):\n",
    "        count=0\n",
    "        for j in range(len(data2)):\n",
    "            dist=haversine((data1.loc[i]['위도'],data1.loc[i]['경도']),(data2.loc[j]['위도'],data2.loc[j]['경도']), unit = 'km')\n",
    "            if dist<=p:\n",
    "                # 교통사고 데이터 사고 건수로 count!\n",
    "                if ('사고건수' in data2.columns):\n",
    "                    count+=data2['사고건수']\n",
    "                else:\n",
    "                    count+=1\n",
    "        #count_list.append((data1.loc[i][name_col],count-1)) 상호명 매핑 화긴~\n",
    "  \n",
    "        if count==0:\n",
    "            count_list.append(count)\n",
    "        else:\n",
    "            count_list.append(count-1)# 자기 자신 제외\n",
    "\n",
    "    return count_list\n",
    "   "
   ]
  },
  {
   "cell_type": "code",
   "execution_count": null,
   "metadata": {},
   "outputs": [],
   "source": [
    "\"\"\" 이건 km\n",
    "거리총합리스트(gas_station_df, bus_station_df, '상호')\n",
    "weight_df['버정거리총합']=max(weight_df['버정거리총합'])-weight_df['버정거리총합']\n",
    "weight_df\n",
    "\"\"\" # 이건 개수\n",
    "버정거리총합 = 반경이내_개수_리스트(2, gas_station_df, bus_station_df,'상호')\n",
    "weight_df['버정거리총합']=버정거리총합\n",
    "weight_df"
   ]
  },
  {
   "cell_type": "code",
   "execution_count": null,
   "metadata": {},
   "outputs": [],
   "source": [
    "상호개수 = 반경이내_개수_리스트(2, gas_station_df, gas_station_df,'상호')\n",
    "weight_df['상호개수']=상호개수\n",
    "weight_df"
   ]
  },
  {
   "cell_type": "code",
   "execution_count": null,
   "metadata": {},
   "outputs": [],
   "source": [
    "######이거 수정 : 도로당 회수 있음, 거리 기준으로 함수 변경-> 거리가 작을수록, 회수가 클 수록 좋은,,데,,,\n",
    "교통사고건수=반경이내_개수_리스트(2, gas_station_df, accident_df,'상호')\n",
    "weight_df['교통사고건수']=교통사고건수\n",
    "weight_df"
   ]
  },
  {
   "cell_type": "markdown",
   "metadata": {},
   "source": [
    "## 감점"
   ]
  },
  {
   "cell_type": "markdown",
   "metadata": {},
   "source": [
    "가능 : 어린이집, 유초중고(2km)"
   ]
  },
  {
   "cell_type": "markdown",
   "metadata": {},
   "source": [
    "working on : 화재"
   ]
  },
  {
   "cell_type": "code",
   "execution_count": null,
   "metadata": {},
   "outputs": [],
   "source": [
    "fire_incident_df.head(3)"
   ]
  },
  {
   "cell_type": "code",
   "execution_count": null,
   "metadata": {},
   "outputs": [],
   "source": [
    "gas_station_df.head(3)"
   ]
  },
  {
   "cell_type": "code",
   "execution_count": null,
   "metadata": {},
   "outputs": [],
   "source": [
    "school_df.head(3)"
   ]
  },
  {
   "cell_type": "code",
   "execution_count": null,
   "metadata": {},
   "outputs": [],
   "source": [
    "kinder_df.head(3)"
   ]
  },
  {
   "cell_type": "code",
   "execution_count": null,
   "metadata": {},
   "outputs": [],
   "source": [
    "#유치원,,\n",
    "#보호구역개수=반경이내_개수_리스트(2, gas_station_df, kinder_df, '상호')\n",
    "#weight_df['보호구역개수']=보호구역개수"
   ]
  },
  {
   "cell_type": "code",
   "execution_count": null,
   "metadata": {},
   "outputs": [],
   "source": [
    "보호구역개수=반경이내_개수_리스트(2, gas_station_df, school_df, '상호')\n",
    "weight_df['보호구역개수']=보호구역개수\n",
    "weight_df"
   ]
  },
  {
   "cell_type": "code",
   "execution_count": null,
   "metadata": {},
   "outputs": [],
   "source": [
    "화재발생건수=반경이내_개수_리스트(2, gas_station_df, fire_incident_df, '상호')\n",
    "weight_df['화재발생건수']=화재발생건수\n",
    "weight_df"
   ]
  },
  {
   "cell_type": "markdown",
   "metadata": {},
   "source": [
    "## 스케일링"
   ]
  },
  {
   "cell_type": "code",
   "execution_count": null,
   "metadata": {},
   "outputs": [],
   "source": [
    "from sklearn.preprocessing import MinMaxScaler\n",
    "minMaxScaler = MinMaxScaler()\n",
    "print(minMaxScaler.fit(weight_df.iloc[:,[1,2,3,4,5]]))\n",
    "weight_df_stdScaled = minMaxScaler.transform(weight_df.iloc[:,[1,2,3,4,5]])\n",
    "weight_df_stdScaled=pd.DataFrame(weight_df_stdScaled, columns=[\"버정거리총합\",\"상호개수\",\"교통사고건수\",\"보호구역개수\",\"화재발생건수\"])\n",
    "weight_df_stdScaled[\"주유소명\"]=weight_df[\"주유소명\"][:]\n",
    "weight_df_stdScaled"
   ]
  },
  {
   "cell_type": "code",
   "execution_count": null,
   "metadata": {},
   "outputs": [],
   "source": [
    "weight_df_stdScaled.to_csv(city_list[i]+\" 스케일링완료.csv\")"
   ]
  },
  {
   "cell_type": "markdown",
   "metadata": {},
   "source": [
    "# ########## 여기까지1 - 스케일링 완, 가중치 미완(lr용) ############"
   ]
  },
  {
   "cell_type": "markdown",
   "metadata": {},
   "source": [
    "## 가중치 매핑 함수\n",
    "새로운 데이터 프레임 만들어서 '상호'와 가중치1,2,3,4,5 넣고 총합 마지막에 하고 sort해서 [:20] 출력"
   ]
  },
  {
   "cell_type": "markdown",
   "metadata": {},
   "source": [
    "### 가산\n",
    "주유소_count_list=반경이내_개수_리스트(2, gas_station_df, gas_station_df,'상호')\n",
    "\n",
    "distance_list=거리총합리스트(gas_station_df, bus_station_df, '상호')\n",
    "\n",
    "교통사고_count_list=반경이내_개수_리스트(2, gas_station_df, accident_df,'상호')\n",
    "### 감점\n",
    "유치원_count_list=반경이내_개수_리스트(2, gas_station_df, kinder_df, '상호')\n",
    "\n",
    "유초중고_count_list=반경이내_개수_리스트(2, gas_station_df, school_df, '상호')\n",
    "\n",
    "화재_count_list=반경이내_개수_리스트(2, gas_station_df, fire_incident_df, '상호')"
   ]
  },
  {
   "cell_type": "code",
   "execution_count": null,
   "metadata": {},
   "outputs": [],
   "source": [
    "# **주유소 순서 헤치지 말 것**\n",
    "#columns=['버정거리총합', '상호개수', '교통사고건수','보호구역개수','화재발생건수',주유소명'])\n",
    "def 가중치추가(df, ratio_list):\n",
    "    for i in range(0,len(df.loc[0])-2):\n",
    "        df['총 가중치']+=df.iloc[:,i]*ratio_list[i]# weight_df는 주유소명부터, ratio_list는 버정거리총합부터 시작하므로\n",
    "    \n"
   ]
  },
  {
   "cell_type": "code",
   "execution_count": null,
   "metadata": {},
   "outputs": [],
   "source": [
    "weight_df_stdScaled[\"총 가중치\"]=0 # 혹시 모를 사고에 대비\n",
    "ratio_list=[0.001,0.1,0.1,-0.1,-0.1] # 뒤에 두개 음수 필수\n",
    "가중치추가(weight_df_stdScaled, ratio_list)\n",
    "weight_df_stdScaled.head(5)"
   ]
  },
  {
   "cell_type": "code",
   "execution_count": null,
   "metadata": {},
   "outputs": [],
   "source": [
    "weight_df_stdScaled_sorted=weight_df_stdScaled.sort_values(by=[\"총 가중치\", \"주유소명\"], ascending=[False, False]) \n",
    "weight_df_stdScaled_sorted"
   ]
  },
  {
   "cell_type": "code",
   "execution_count": null,
   "metadata": {},
   "outputs": [],
   "source": [
    "weight_df_sorted.to_csv(city_list[2]+\" 가중치.csv\")"
   ]
  },
  {
   "cell_type": "markdown",
   "metadata": {},
   "source": [
    "# ########## 여기까지2 - 스케일링, 가중치 모두 완 (f1용)"
   ]
  },
  {
   "cell_type": "markdown",
   "metadata": {},
   "source": [
    "## 정확도 나타내기\n",
    "가중치가 높은 상위 20개 중 수소 충전소가 있는 개수\n",
    "- 전체 충전소 개수 중 맞춘 개수?"
   ]
  },
  {
   "cell_type": "code",
   "execution_count": null,
   "metadata": {},
   "outputs": [],
   "source": [
    "# 예시예시 10개!! 실제로는 불러와야겠죠,,,\n",
    "guess_df=pd.DataFrame([[0]*2]*10, columns=['주유소명','어쩌구'])\n",
    "# 찐 걍 예시\n",
    "\n",
    "guess_df['주유소명']=gas_station_df['상호'][:10]\n",
    "guess_df"
   ]
  },
  {
   "cell_type": "code",
   "execution_count": null,
   "metadata": {},
   "outputs": [],
   "source": [
    "# 예시 친구들을 전체 주유소에 대입\n",
    "labels_df=pd.DataFrame([[0]*2]*len(weight_df_sorted), columns=['주유소명','label'])\n",
    "labels_df['주유소명']=gas_station_df['상호']\n",
    "for i in range(len(guess_df)):\n",
    "    if labels_df['주유소명'][i]==guess_df['주유소명'][i]:\n",
    "        labels_df['label'][i]+=1"
   ]
  },
  {
   "cell_type": "code",
   "execution_count": null,
   "metadata": {},
   "outputs": [],
   "source": [
    "# weight_df_sorted 상위 10개 label에 1 넣음\n",
    "eval_df=pd.DataFrame([[0]*2]*len(weight_df_sorted), columns=['주유소명','label'])\n",
    "eval_df['주유소명']=weight_df_sorted['주유소명'][:]\n",
    "eval_df['label'][:len(guess_df)]=1#일단 그냥 추측 개수 같게 했다,,"
   ]
  },
  {
   "cell_type": "code",
   "execution_count": null,
   "metadata": {},
   "outputs": [],
   "source": [
    "# 전체 충전소 개수 중 guess의 개수 안에 있는 충전소 개수\n",
    "from sklearn.metrics import accuracy_score, recall_score, precision_score, f1_score\n",
    "eval_df['label']=0\n",
    "# eval_df.columns=['주유소명','label']\n",
    "for i in range(len(guess_df)):\n",
    "    if guess_df['주유소명'][i]==eval_df['주유소명'][i]:\n",
    "        eval_df['label'][i]+=1\n",
    "\n",
    "eval_df.sort_values(by=[\"주유소명\"], ascending=[False]) \n",
    "guess_df.sort_values(by=[\"주유소명\"], ascending=[False]) \n",
    "# 원래 친구\n",
    "labels=labels_df['label']\n",
    "# 추정한 친구\n",
    "guesses=eval_df['label']\n",
    "guesses"
   ]
  },
  {
   "cell_type": "code",
   "execution_count": null,
   "metadata": {},
   "outputs": [],
   "source": [
    "print(accuracy_score(labels, guesses))\n",
    "print(recall_score(labels, guesses))\n",
    "print(precision_score(labels, guesses))\n",
    "print(f1_score(labels, guesses))"
   ]
  },
  {
   "cell_type": "code",
   "execution_count": null,
   "metadata": {},
   "outputs": [],
   "source": []
  },
  {
   "cell_type": "code",
   "execution_count": null,
   "metadata": {},
   "outputs": [],
   "source": []
  },
  {
   "cell_type": "markdown",
   "metadata": {},
   "source": [
    "## 동 매핑"
   ]
  },
  {
   "cell_type": "markdown",
   "metadata": {},
   "source": [
    "동이랑 통행속도 매핑\n",
    "\n",
    "gas_station_df['주소']-도로 이름 나오니까 그냥 사용\n",
    "\n",
    "travel_speed['도로명'], ['속도']"
   ]
  },
  {
   "cell_type": "code",
   "execution_count": null,
   "metadata": {},
   "outputs": [],
   "source": [
    "# 그냥 대충 만든 거\n",
    "travel_speed=pd.DataFrame([['혁신로', 20],['기지로', 30],['쑥고개로', 10],['권삼득로', 33]], columns=['도로명','속도'])\n",
    "travel_speed"
   ]
  },
  {
   "cell_type": "code",
   "execution_count": null,
   "metadata": {},
   "outputs": [],
   "source": [
    "# 가중치 데이터 프레임\n",
    "weight_df=pd.DataFrame([[0]*5]*len(gas_station_df), columns=['주유소_이름', '주소','통행속도_w', 'a', 'b'])\n",
    "weight_df['주유소_이름']=gas_station_df['상호'][:]\n",
    "weight_df['주소']=gas_station_df['주소'][:]\n",
    "weight_df"
   ]
  },
  {
   "cell_type": "code",
   "execution_count": null,
   "metadata": {},
   "outputs": [],
   "source": [
    "for i in range(len(travel_speed)):\n",
    "    for j in range(len(gas_station_df)):\n",
    "        if travel_speed.loc[i]['도로명'] in gas_station_df.loc[j]['주소']:\n",
    "            # gas_station_df.loc[j]['상호']\n",
    "            # 하는 중\n",
    "            # weight_df.iloc['주유소_이름']['통행속도_w']+=1\n",
    "weight_df"
   ]
  },
  {
   "cell_type": "code",
   "execution_count": null,
   "metadata": {},
   "outputs": [],
   "source": []
  }
 ],
 "metadata": {
  "kernelspec": {
   "display_name": "Python 3",
   "language": "python",
   "name": "python3"
  },
  "language_info": {
   "codemirror_mode": {
    "name": "ipython",
    "version": 3
   },
   "file_extension": ".py",
   "mimetype": "text/x-python",
   "name": "python",
   "nbconvert_exporter": "python",
   "pygments_lexer": "ipython3",
   "version": "3.8.5"
  }
 },
 "nbformat": 4,
 "nbformat_minor": 4
}
